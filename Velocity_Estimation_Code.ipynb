{
  "nbformat": 4,
  "nbformat_minor": 0,
  "metadata": {
    "colab": {
      "provenance": []
    },
    "kernelspec": {
      "name": "python3",
      "display_name": "Python 3"
    },
    "language_info": {
      "name": "python"
    }
  },
  "cells": [
    {
      "cell_type": "markdown",
      "source": [
        "# Use Track Anything for Segmentation"
      ],
      "metadata": {
        "id": "SDgVjy98YdGf"
      }
    },
    {
      "cell_type": "markdown",
      "source": [
        "Use GPU for this section"
      ],
      "metadata": {
        "id": "-bLBIGKjkIX0"
      }
    },
    {
      "cell_type": "markdown",
      "source": [
        "Track Anything Github Page: https://github.com/gaomingqi/Track-Anything"
      ],
      "metadata": {
        "id": "ZkZumYnug4FE"
      }
    },
    {
      "cell_type": "code",
      "source": [
        "!git clone https://github.com/healthonrails/Track-Anything.git   # cloning repository"
      ],
      "metadata": {
        "id": "pGSiOQmkgUPb"
      },
      "execution_count": null,
      "outputs": []
    },
    {
      "cell_type": "code",
      "source": [
        "%cd Track-Anything/     # changing the working directory to the cloned repository"
      ],
      "metadata": {
        "id": "SdzFMVAbY1HB"
      },
      "execution_count": null,
      "outputs": []
    },
    {
      "cell_type": "code",
      "source": [
        "# Defines a function that rewrites an import in the requirements.txt file\n",
        "def change_gradio_version(old_filename) -> str:\n",
        "    import re\n",
        "    from pathlib import Path\n",
        "    # Read the contents of the file\n",
        "    with open(old_filename, \"r\") as f:\n",
        "        contents = f.read()\n",
        "    # Define the regular expression pattern\n",
        "    pattern = r\"gradio==3.25.0\"\n",
        "    # Use the sub method to replace the text\n",
        "    contents = re.sub(pattern, \"gradio==3.28.3\", contents)\n",
        "    # Write the modified contents back to the file\n",
        "    new_filename = Path(old_filename).parent / f\"{Path(old_filename).stem}_modified.txt\"\n",
        "    with open(new_filename, \"w\") as f:\n",
        "        f.write(contents)\n",
        "\n",
        "    return new_filename.name\n",
        "\n",
        "\n",
        "change_gradio_version('requirements.txt')  # change version of Gradio to 3.28.3"
      ],
      "metadata": {
        "id": "mWVwQ2D4gcF9"
      },
      "execution_count": null,
      "outputs": []
    },
    {
      "cell_type": "code",
      "source": [
        "!pip install -r requirements_modified.txt  # install newly modified requirements for Track Anything"
      ],
      "metadata": {
        "id": "agnyMcGngjsF"
      },
      "execution_count": null,
      "outputs": []
    },
    {
      "cell_type": "code",
      "source": [
        "!python app.py --device cuda:0  # run the Gradio demo for Track Anything\n",
        "\n",
        "# Open the \"Running on public URL:\" link when it pops up.\n",
        "# Tutorial for the demo can be found here: https://github.com/gaomingqi/Track-Anything/blob/master/doc/tutorials.md\n",
        "# Video might not play in browser if it's not an mp4\n",
        "# Once satisfied with tracking results, download output video to files and upload to Google Drive"
      ],
      "metadata": {
        "id": "4ECFtUzrgoL9"
      },
      "execution_count": null,
      "outputs": []
    },
    {
      "cell_type": "markdown",
      "source": [
        "Track Anything demo can also be run on Hugging Face:\n",
        "https://huggingface.co/spaces/VIPLab/Track-Anything"
      ],
      "metadata": {
        "id": "Jiy68mCiY_LY"
      }
    },
    {
      "cell_type": "markdown",
      "source": [
        "# Importing Libraries for Velocity Calculations"
      ],
      "metadata": {
        "id": "h9q8WhYS4GNG"
      }
    },
    {
      "cell_type": "markdown",
      "source": [
        "A GPU is not necessary beyond this point, so connecting to a new runtime without one would conserve resources"
      ],
      "metadata": {
        "id": "oYsd4W1ckm3R"
      }
    },
    {
      "cell_type": "code",
      "execution_count": null,
      "metadata": {
        "id": "I7LZ3fnSTvr6"
      },
      "outputs": [],
      "source": [
        "from google.colab import drive # mounting google drive\n",
        "drive.mount('/content/drive')"
      ]
    },
    {
      "cell_type": "code",
      "source": [
        "import cv2\n",
        "from PIL import Image\n",
        "import numpy as np\n",
        "import matplotlib.pyplot as plt"
      ],
      "metadata": {
        "id": "g0w0ORMA4LGP"
      },
      "execution_count": null,
      "outputs": []
    },
    {
      "cell_type": "markdown",
      "source": [
        "# Storing Video Frames as Images"
      ],
      "metadata": {
        "id": "ZeZJiM9OUyZn"
      }
    },
    {
      "cell_type": "code",
      "source": [
        "folder_path = '/content/drive/MyDrive/Image Segmentation for High-Speed Collision/Tracking Objects Data/Tracking Object 5/'  # path to the desired folder in Google Drive\n",
        "video_name = '1_object5_video.mp4'  # name of desired video in folder\n",
        "image_name = 'object5_frame_'  # desired name for images of individual frames which will be saved to the same Drive folder (note that a number will be added to the end to denote the frame number)"
      ],
      "metadata": {
        "id": "fPbl46_mHTnI"
      },
      "execution_count": null,
      "outputs": []
    },
    {
      "cell_type": "code",
      "source": [
        "vidcap = cv2.VideoCapture(folder_path + video_name) # loading video from Google Drive\n",
        "success,image = vidcap.read() # reading video as individual frames\n",
        "count = 1\n",
        "while success:\n",
        "  cv2.imwrite(folder_path + image_name + '{}.png'.format(count), image) # saving each frame to Google Drive\n",
        "  success,image = vidcap.read()\n",
        "  print('Read a new frame: ', success)\n",
        "  count += 1"
      ],
      "metadata": {
        "id": "yGgp-TjdT2Jc"
      },
      "execution_count": null,
      "outputs": []
    },
    {
      "cell_type": "markdown",
      "source": [
        "# Locating and Counting Pixels in the Mask"
      ],
      "metadata": {
        "id": "KOAvD0GPVaKD"
      }
    },
    {
      "cell_type": "code",
      "source": [
        "height = 720      # height of image in pixels\n",
        "width = 1280       # width of image in pixels\n",
        "\n",
        "start_frame = 169  # first desired frame to use for regression/velocity calculation\n",
        "end_frame = 268    # last desired frame to use for regression/velocity calculation"
      ],
      "metadata": {
        "id": "rhw7aLyiCAXx"
      },
      "execution_count": null,
      "outputs": []
    },
    {
      "cell_type": "code",
      "source": [
        "pixel_counts = []\n",
        "centroid_x_coordinates = []\n",
        "centroid_y_coordinates = []\n",
        "\n",
        "for x in range(start_frame,end_frame + 1):    # looping over the desired number of frames\n",
        "  im = Image.open(folder_path + image_name + '{}.png'.format(x))   # load each frame from Google Drive\n",
        "  data = im.getdata()     # storing image as array of RGB pixels\n",
        "  locations = [pixel for pixel in range(len(data)) if data[pixel][0] > 150 and data[pixel][2] < data[pixel][0]]   # creating list of all orange pixels\n",
        "  x_coords = [int(u%width) for u in locations]    # creating list of x-coordinates of all orange pixels\n",
        "  y_coords = [int(u/width) for u in locations]    # creating list of y-coordinates of all orange pixels\n",
        "  area = len(locations)             # counting total number of orange pixels\n",
        "  centroid_x = np.mean(x_coords)    # calculating x-coordinate of centroid\n",
        "  centroid_y = np.mean(y_coords)    # calculating y-coordinate of centroid\n",
        "  pixel_counts.append(area)\n",
        "  centroid_x_coordinates.append(centroid_x)\n",
        "  centroid_y_coordinates.append(centroid_y)\n",
        "\n",
        "print(pixel_counts)\n",
        "print(centroid_x_coordinates)\n",
        "print(centroid_y_coordinates)"
      ],
      "metadata": {
        "id": "ljthKUsTB__H"
      },
      "execution_count": null,
      "outputs": []
    },
    {
      "cell_type": "markdown",
      "source": [
        "## Save/Load Data With CSV File if Desired"
      ],
      "metadata": {
        "id": "IpfzUlQ35H20"
      }
    },
    {
      "cell_type": "code",
      "source": [
        "csv_file_name = 'object5_data.csv'  # naming the csv file"
      ],
      "metadata": {
        "id": "bhjdSze0DTkQ"
      },
      "execution_count": null,
      "outputs": []
    },
    {
      "cell_type": "markdown",
      "source": [
        "Save fragment data to csv file"
      ],
      "metadata": {
        "id": "tgFuHVSy9Dnw"
      }
    },
    {
      "cell_type": "code",
      "source": [
        "data = np.array([pixel_counts, centroid_x_coordinates, centroid_y_coordinates])\n",
        "np.savetxt(folder_path + csv_file_name, data, delimiter = ',')  # saving csv file to the same folder used above"
      ],
      "metadata": {
        "id": "LKA3EoYp5Q5v"
      },
      "execution_count": null,
      "outputs": []
    },
    {
      "cell_type": "markdown",
      "source": [
        "Load fragment data from csv file"
      ],
      "metadata": {
        "id": "FFKStZAg9JQt"
      }
    },
    {
      "cell_type": "code",
      "source": [
        "data = np.loadtxt(folder_path + csv_file_name, delimiter = ',')  # loading data from csv file\n",
        "\n",
        "pixel_counts = data[0]\n",
        "centroid_x_coordinates = data[1]\n",
        "centroid_y_coordinates = data[2]"
      ],
      "metadata": {
        "id": "-I-lXuecDy9f"
      },
      "execution_count": null,
      "outputs": []
    },
    {
      "cell_type": "markdown",
      "source": [
        "## Graphing Inverse Area Over Time"
      ],
      "metadata": {
        "id": "a8igFe8HrbNq"
      }
    },
    {
      "cell_type": "code",
      "source": [
        "fput = 2       # frames per unit time for the video - ex: 2 frames = 1 microsecond"
      ],
      "metadata": {
        "id": "WmpHcbmWcA4w"
      },
      "execution_count": null,
      "outputs": []
    },
    {
      "cell_type": "code",
      "source": [
        "frames = [n for n in range(len(pixel_counts))]\n",
        "time = [n/fput for n in frames]         # converting frames to time\n",
        "invArea = [1/n for n in pixel_counts]   # converting area to inverse area\n",
        "\n",
        "#polynomial fit with degree = 2\n",
        "quadregression = np.poly1d(np.polyfit(time, invArea, 2))\n",
        "\n",
        "#add fitted polynomial line to scatterplot\n",
        "polyline = np.linspace(0, len(time)/fput, int(len(time)/4))\n",
        "plt.plot(time, invArea)\n",
        "plt.plot(polyline, quadregression(polyline))\n",
        "plt.show()\n",
        "\n",
        "print(quadregression)"
      ],
      "metadata": {
        "id": "jNKnM3zIxQHU"
      },
      "execution_count": null,
      "outputs": []
    },
    {
      "cell_type": "markdown",
      "source": [
        "## Graphing X-Coordinate of Centroid Over Time"
      ],
      "metadata": {
        "id": "UlzQEPWrBHmD"
      }
    },
    {
      "cell_type": "code",
      "source": [
        "fput = 2       # frames per unit time for the video - ex: 4 frames = 1 microsecond"
      ],
      "metadata": {
        "id": "knS4HhYJBZzW"
      },
      "execution_count": null,
      "outputs": []
    },
    {
      "cell_type": "code",
      "source": [
        "frames = [n for n in range(len(centroid_x_coordinates))]\n",
        "time = [n/fput for n in frames]     # converting frames to time\n",
        "\n",
        "#polynomial fit with degree = 1\n",
        "xlinregression = np.poly1d(np.polyfit(time, centroid_x_coordinates, 1))\n",
        "\n",
        "#add fitted polynomial line to scatterplot\n",
        "polyline = np.linspace(0, len(time)/fput, int(len(time)/4))\n",
        "plt.plot(time, centroid_x_coordinates)\n",
        "plt.plot(polyline, xlinregression(polyline))\n",
        "plt.show()\n",
        "\n",
        "print(xlinregression)"
      ],
      "metadata": {
        "id": "kJKdoXTkIHmA"
      },
      "execution_count": null,
      "outputs": []
    },
    {
      "cell_type": "markdown",
      "source": [
        "## Graphing Y-Coordinate of Centroid Over Time"
      ],
      "metadata": {
        "id": "FUCFOFTfBQr9"
      }
    },
    {
      "cell_type": "code",
      "source": [
        "fput = 2       # frames per unit time for the video - ex: 4 frames = 1 microsecond"
      ],
      "metadata": {
        "id": "yuwi8h7CBc7g"
      },
      "execution_count": null,
      "outputs": []
    },
    {
      "cell_type": "code",
      "source": [
        "frames = [n for n in range(len(centroid_y_coordinates))]\n",
        "time = [n/fput for n in frames]     # converting frames to time\n",
        "\n",
        "#polynomial fit with degree = 1\n",
        "ylinregression = np.poly1d(np.polyfit(time, centroid_y_coordinates, 1))\n",
        "\n",
        "#add fitted polynomial line to scatterplot\n",
        "polyline = np.linspace(0, len(time)/fput, int(len(time)/4))\n",
        "plt.plot(time, centroid_y_coordinates)\n",
        "plt.plot(polyline, ylinregression(polyline))\n",
        "plt.show()\n",
        "\n",
        "print(ylinregression)"
      ],
      "metadata": {
        "id": "AAMfWa3RJXlD"
      },
      "execution_count": null,
      "outputs": []
    },
    {
      "cell_type": "markdown",
      "source": [
        "# Calculating Velocity and Area of Fragment"
      ],
      "metadata": {
        "id": "bUJC5bXjiQVS"
      }
    },
    {
      "cell_type": "markdown",
      "source": [
        "Input the known constants into the code block below:"
      ],
      "metadata": {
        "id": "Sj331Fhc387s"
      }
    },
    {
      "cell_type": "code",
      "source": [
        "D = .01      # initial distance of object from camera in meters\n",
        "F = .06     # focal length of camera in meters\n",
        "pd = 6.25   # pixel density in pixels per square millimeter - ex: 1 mm² = 1330 pixels\n",
        "convert_time = 10**6    # number of current time units per second - ex: 1 second = 10⁶ microseconds"
      ],
      "metadata": {
        "id": "eb8tnC4TiYPt"
      },
      "execution_count": null,
      "outputs": []
    },
    {
      "cell_type": "markdown",
      "source": [
        "Calculate velocities:"
      ],
      "metadata": {
        "id": "Kw_k0vt1suDA"
      }
    },
    {
      "cell_type": "code",
      "source": [
        "zcoefs = quadregression.c        # retrieving coefficients of regression equations\n",
        "xcoefs = xlinregression.c\n",
        "ycoefs = ylinregression.c\n",
        "\n",
        "initial_vz = D * ((zcoefs[0]/zcoefs[2])**.5) # calculating velocity in original time units\n",
        "vz = initial_vz * convert_time   # converting z-velocity to m/s\n",
        "a = ((D/F)**2)/(zcoefs[2]*pd)    # calculating area in mm²\n",
        "\n",
        "vx = (xcoefs[0]*convert_time)/((10**3)*(pd**.5))    # calculating x-velocity in m/s\n",
        "vy = (ycoefs[0]*convert_time)/((10**3)*(pd**.5))    # calculating y-velocity in m/s\n",
        "\n",
        "print(\"z-velocity in m/s: \" + str(vz))\n",
        "print(\"area in mm²: \" + str(a))\n",
        "print(\"potential x-velocity in m/s: \" + str(vx))\n",
        "print(\"potential y-velocity in m/s: \" + str(vy))"
      ],
      "metadata": {
        "id": "7Uw_O9jui_0V"
      },
      "execution_count": null,
      "outputs": []
    },
    {
      "cell_type": "markdown",
      "source": [
        "Z-velocity is the component of velocity directed out of the video plane\n",
        "\n",
        "Area is an estimation of the average area of all faces of the object that faced the camera during the tracking period\n",
        "\n",
        "X-velocity and y-velocity are both in-plane, but I don't think the calculation is done correctly for them, so these two values can be ignored"
      ],
      "metadata": {
        "id": "nKPm9Hf39VFk"
      }
    },
    {
      "cell_type": "markdown",
      "source": [
        "# Possible Kinetic Energy Estimation With Equivalent Spheres?"
      ],
      "metadata": {
        "id": "hCacZ_uq-_su"
      }
    },
    {
      "cell_type": "code",
      "source": [
        "density = 1.77   # density of the material in grams per centimeter³"
      ],
      "metadata": {
        "id": "xVXH94r1_GtH"
      },
      "execution_count": null,
      "outputs": []
    },
    {
      "cell_type": "code",
      "source": [
        "v = ((vx**2) + (vy**2) + (vz**2)) ** .5   # calculating total velocity from components\n",
        "\n",
        "r_unconverted = (a/3.14159) ** .5   # using average area to calculate radius of equivalent sphere\n",
        "r = r_unconverted / 10  # converting radius from millimeters to centimeters\n",
        "volume = (4/3) * 3.14159 * (r**3)   # calculating volume of equivalent sphere\n",
        "\n",
        "mass_unconverted = density * volume # using volume and density to find mass\n",
        "mass = mass_unconverted / 1000 # converting mass from grams to kilograms\n",
        "\n",
        "ke = .5 * mass * (v**2)   # calculating kinetic energy with mass and total velocity\n",
        "\n",
        "print(\"total velocity in m/s: \" + str(v))\n",
        "print(\"estimated volume in cm³: \" + str(volume))\n",
        "print(\"estimated mass in kg: \" + str(mass))\n",
        "print(\"estimated kinetic energy in J: \" + str(ke))"
      ],
      "metadata": {
        "id": "X2254FJ9_gvE"
      },
      "execution_count": null,
      "outputs": []
    }
  ]
}